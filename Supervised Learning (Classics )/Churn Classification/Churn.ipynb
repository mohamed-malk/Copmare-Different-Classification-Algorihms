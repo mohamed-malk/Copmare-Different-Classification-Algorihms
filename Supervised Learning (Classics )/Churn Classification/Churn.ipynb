{
 "cells": [
  {
   "cell_type": "markdown",
   "id": "47476a3b-8846-4a47-8d4a-71d6328918a6",
   "metadata": {
    "jp-MarkdownHeadingCollapsed": true,
    "tags": []
   },
   "source": [
    "# Load Libraries"
   ]
  },
  {
   "cell_type": "code",
   "execution_count": 2,
   "id": "1bd3b5fe-e64d-48cf-9d48-45ae84f71402",
   "metadata": {},
   "outputs": [],
   "source": [
    "import tensorflow as tf\n",
    "\n",
    "import numpy as np\n",
    "from dateutil.parser import parse\n",
    "from sklearn.preprocessing import LabelEncoder, OneHotEncoder\n",
    "import pandas as pd\n",
    "\n",
    "import matplotlib.pyplot as py\n",
    "import seaborn as sb\n",
    "  \n",
    "from sklearn.preprocessing import StandardScaler\n",
    "\n",
    "from sklearn.linear_model import LogisticRegression\n",
    "from sklearn.tree import DecisionTreeClassifier\n",
    "from sklearn.svm import SVC\n",
    "from sklearn.naive_bayes import BernoulliNB\n",
    "from sklearn.neighbors import KNeighborsClassifier\n",
    "from sklearn.ensemble import GradientBoostingClassifier, AdaBoostClassifier\n",
    "import xgboost as xgb \n",
    "\n",
    "from hyperopt import hp, tpe, fmin, Trials\n",
    "#import neptunecontrib.hpo.utils as hpo_utils\n",
    "from sklearn.model_selection import GridSearchCV, RandomizedSearchCV, StratifiedKFold, cross_val_score, train_test_split\n",
    "\n",
    "from sklearn.metrics import classification_report, accuracy_score\n",
    "from sklearn.metrics import confusion_matrix, ConfusionMatrixDisplay"
   ]
  },
  {
   "cell_type": "markdown",
   "id": "bd6a0ec8-ddd3-41f0-b869-6d36d6b28892",
   "metadata": {
    "jp-MarkdownHeadingCollapsed": true,
    "tags": []
   },
   "source": [
    "# Avoid OOM errors by setting GPU Memory Consumption Growth"
   ]
  },
  {
   "cell_type": "code",
   "execution_count": 3,
   "id": "68d323bb-265e-4ec5-b40c-1ba60f9deb08",
   "metadata": {},
   "outputs": [],
   "source": [
    "gpus = tf.config.experimental.list_physical_devices('GPU')\n",
    "for gpu in gpus: \n",
    "    tf.config.experimental.set_memory_growth(gpu, True)\n",
    "    pass"
   ]
  },
  {
   "cell_type": "markdown",
   "id": "b0a19d6f-35d8-4315-ae15-4175dc6e1886",
   "metadata": {
    "jp-MarkdownHeadingCollapsed": true,
    "tags": []
   },
   "source": [
    "# EDA & Preprocessing"
   ]
  },
  {
   "cell_type": "markdown",
   "id": "b25fb5e8-ac74-492e-a24a-a9ae8eff11ff",
   "metadata": {
    "jp-MarkdownHeadingCollapsed": true,
    "tags": []
   },
   "source": [
    "## Class"
   ]
  },
  {
   "cell_type": "code",
   "execution_count": 4,
   "id": "5f0006c6-e5cc-4a10-adde-03e714f5fbea",
   "metadata": {},
   "outputs": [],
   "source": [
    "class EDA:\n",
    "    '''\n",
    "    this class\n",
    "       handles with missing values in the dataset (replace it)\n",
    "       perform some visualization plots on data  \n",
    "       \n",
    "    load dataset from path or assign as pandas.DataFrame\n",
    "    then handle missing values ... before anything\n",
    "    '''\n",
    "    \n",
    "    # split dataframe into categorical & continues to make visualization easy\n",
    "    # add features after handling missing values\n",
    "    __categorical, __continues, __date_columns = pd.DataFrame(), pd.DataFrame(), pd.DataFrame()\n",
    "    __cont_len, __cate_len = 0, 0\n",
    "    \n",
    "    def __init__(self, dataset, num_unique_values, perc_miss, target_index = None):\n",
    "        '''\n",
    "        dataset : Path (location) of dataset to which the operations will be applied or pandas.DaFrame\n",
    "        num_unique_values : Number of unique values in a feature has 'int datatype',\n",
    "                            to deal with it as categorical feature.\n",
    "                    \n",
    "        perc_miss : Percentage of missing values in a feature\n",
    "                    in case the percentage of missing values more than 'perc_miss'\n",
    "                    the feature is removed from dataset\n",
    "                    \n",
    "        target_index : the index of target feature | None, in case no target\n",
    "        ''' \n",
    "        \n",
    "        try :\n",
    "            self.path_dataset = dataset\n",
    "            self.nuv = num_unique_values\n",
    "            self.pm = perc_miss\n",
    "            self.tar_index = target_index\n",
    "            ######################\n",
    "        \n",
    "            if type(dataset) == type(self.__categorical):\n",
    "                self.dataFrame = dataset; pass\n",
    "            else : self.dataFrame = pd.read_csv(self.path_dataset)\n",
    "            self.numRec = len(self.dataFrame)  \n",
    "            ##\n",
    "             # boolean not work during plot \n",
    "            if target_index != None:\n",
    "                self.target = self.dataFrame.iloc[:,self.tar_index] \n",
    "                if self.target .dtype == bool:\n",
    "                    self.target .replace([True, False], [1,0])\n",
    "                    pass\n",
    "                pass\n",
    "            else : self.target = None\n",
    "            ##\n",
    "            self.__handle();\n",
    "            pass\n",
    "        \n",
    "        except Exception as e:\n",
    "            print(e,e.with_traceback); pass \n",
    "        pass\n",
    "    \n",
    "    def about_dataset(self):\n",
    "        '''\n",
    "        '''\n",
    "        print(\"\\n Dataset has : \",self.numRec, \" records (samples)\")\n",
    "        print(\"\\n Dataset has : \", self.__cate_len, \" categorical features :       \"+\n",
    "              self.__categorical.columns)\n",
    "        print(\"\\n Dataset has : \",self.__cont_len, \" continues features :        \"+\n",
    "              self.__continues.columns)\n",
    "        \n",
    "        print(\"\\n######################## Number of nulls ########################\\n\")\n",
    "        print(self.dataFrame.isnull().sum())\n",
    "        print(\"\\n######################## information ########################\\n\")\n",
    "        print(self.dataFrame.info())\n",
    "        print(\"\\n######################## description ########################\\n\")\n",
    "        print(self.dataFrame.describe())\n",
    "        pass\n",
    "    \n",
    "    ## Pre-processing\n",
    "    \n",
    "    def __handle(self):\n",
    "        '''\n",
    "        replace each null-value with:\n",
    "                mean in continuous features\n",
    "                mode in categorical features\n",
    "        -------------------------------------\n",
    "        and handle  boolean feature    \n",
    "        '''\n",
    "        \n",
    "        \n",
    "        for column in self.dataFrame.columns[:-1]:\n",
    "            if self.dataFrame[column].isnull().sum() / self.numRec >= self.pm:\n",
    "                self.dataFrame = self.dataFrame.drop(columns=column, axis=1)\n",
    "                pass\n",
    "            elif self.dataFrame[column].dtype in \\\n",
    "                             (np.int8, np.int16, np.int32, np.int64,np.int_, np.int0):\n",
    "                # Suppose a feature is a categorical feature when it has a maximum of 10 categories..\n",
    "                # [ class '1' | class '2' | class '3' ]\n",
    "                if len(self.dataFrame[column].unique()) <= self.nuv :\n",
    "                    self.dataFrame[column][self.dataFrame[column].isnull()] = self.dataFrame[column].mode()[0]    \n",
    "                    self.__categorical[column] = self.dataFrame[column]\n",
    "                    pass\n",
    "                \n",
    "                else:\n",
    "                    self.dataFrame[column][self.dataFrame[column].isnull()] = self.dataFrame[column].mean()\n",
    "                    self.__continues[column] = self.dataFrame[column]\n",
    "                    pass\n",
    "                pass\n",
    "            \n",
    "            elif self.dataFrame[column].dtype == object:\n",
    "                self.dataFrame[column][self.dataFrame[column].isnull()] = self.dataFrame[column].mode()[0]\n",
    "                try:\n",
    "                    parse(self.dataFrame[column][0])\n",
    "                    date = pd.to_datetime(self.dataFrame[column])\n",
    "                    date = [[da.year, da.month, da.day] for da in date]\n",
    "                    date = pd.DataFrame(date, columns=[column +' year', column +' month',column +' day'])\n",
    "                  \n",
    "                    self.__date_columns = pd.concat([self.__date_columns, date], axis=1) \n",
    "                    pass\n",
    "                except Exception:\n",
    "                    self.__categorical[column] = self.dataFrame[column]; pass\n",
    "                pass\n",
    "            \n",
    "            elif self.dataFrame[column].dtype in (np.float16, np.float32, np.float64):\n",
    "                self.dataFrame[column][self.dataFrame[column].isnull()] = self.dataFrame[column].mean()\n",
    "                self.__continues[column] = self.dataFrame[column]\n",
    "                pass\n",
    "            \n",
    "            elif self.dataFrame[column].dtype == bool:\n",
    "                self.__categorical[column] = self.target.replace([True, False], [1,0])\n",
    "                self.__categorical[column][self.__categorical[column].isnull()] = \\\n",
    "                     self.__categorical[column].mode()[0]\n",
    "                pass\n",
    "            pass\n",
    "        self.__cont_len = np.shape(self.__continues)[1]\n",
    "        self.__cate_len = np.shape(self.__categorical)[1]\n",
    "        pass\n",
    "    \n",
    "    ### Continues features\n",
    "    \n",
    "    def hist_plot(self):\n",
    "        '''\n",
    "        plot histogram for each Continues feature in dataset\n",
    "        '''\n",
    "        try:\n",
    "            for column in self.__continues.columns:\n",
    "                sb.histplot(x=self.__continues[column], hue = self.target ,kde=True)\n",
    "                py.show(); pass\n",
    "            pass\n",
    "        except Exception as e:\n",
    "            print(e,e.with_traceback); pass \n",
    "        pass\n",
    "    \n",
    "    def box_plot(self):\n",
    "        '''\n",
    "        plot histogram for each Continues feature in dataset\n",
    "        '''\n",
    "        try:\n",
    "            for column in self.__continues.columns:\n",
    "                sb.boxplot(x=self.__continues[column], hue = self.target)\n",
    "                py.show(); pass\n",
    "            pass \n",
    "        except Exception as e:\n",
    "            print(e,e.with_traceback); pass \n",
    "        pass\n",
    "    \n",
    "    def pairplot(self):\n",
    "        '''\n",
    "        plot pairplot for each Continues feature in dataset\n",
    "        '''\n",
    "        try:\n",
    "            fig, axs = py.subplots(1, 1, figsize=(5*self.__cont_len,5))\n",
    "            sb.pairplot(data=self.__continue, ax=axs)\n",
    "            py.show(); pass \n",
    "        except Exception as e:\n",
    "            print(e,e.with_traceback); pass \n",
    "        pass\n",
    "    \n",
    "    def correlation(self):\n",
    "        '''\n",
    "        plot heatmap of correlation between Continues features in dataset\n",
    "        '''\n",
    "        try:\n",
    "            fig, axs = py.subplots(1, 1, figsize=(5*self.__cont_len,5))\n",
    "            sb.heatmap(data=self.__continues.corr(),annot=True, ax=axs)\n",
    "            py.show(); pass \n",
    "        except Exception as e:\n",
    "            print(e,e.with_traceback); pass \n",
    "        pass\n",
    "    \n",
    "     ### Categorical features \n",
    "    \n",
    "    def count_plot(self):\n",
    "        '''\n",
    "        plot countplot for each Continues feature in dataset\n",
    "        ''' \n",
    "        try:\n",
    "            for column in self.__categorical.columns:\n",
    "                sb.countplot(self.__categorical[column], hue = self.target)\n",
    "                py.show();   \n",
    "                pass \n",
    "            \n",
    "            # shape of date_columns (dataframe contains date-columns)\n",
    "            # for one date-column (in orginal dataset), after split \n",
    "                # 'columnName year' 'columnName month' 'columnName day'\n",
    "            \n",
    "            l = np.shape(self.__date_columns)[1]\n",
    "            for ind in range(0,l,3):\n",
    "                years = np.unique(self.__date_columns.iloc[:,ind]); s = len(years)\n",
    "                \n",
    "                # Years\n",
    "                sb.countplot(self.__date_columns.iloc[:,ind], hue = self.target)\n",
    "                py.title(\"Plot Years\"); py.show();    \n",
    "                    \n",
    "                # 12-Months for each year\n",
    "                ig, axs = py.subplots(1, 1, figsize=(5*s,5))\n",
    "                sb.countplot(self.__date_columns.iloc[:,ind], \n",
    "                                 hue=self.__date_columns.iloc[:,ind+1],ax=axs)\n",
    "                py.title(\"12-Months for each year\")\n",
    "                py.legend(); py.show()\n",
    "                    \n",
    "                # Days in each month for each year\n",
    "                for year in years:\n",
    "                    fig, axs = py.subplots(1, 1, figsize=(5*s,5))\n",
    "                    sb.countplot(self.__date_columns.iloc[:,ind+1] \\\n",
    "                                     [self.__date_columns.iloc[:,ind] == year], \\\n",
    "                                     hue=self.__date_columns.iloc[:,ind+2] \\\n",
    "                                     [self.__date_columns.iloc[:,ind] == year],ax=axs)\n",
    "                        \n",
    "                    py.title(\"Days in each month for year : \" + str(year))\n",
    "                    py.legend(); py.show()\n",
    "                    pass \n",
    "            pass\n",
    "        except Exception as e:\n",
    "                    print(e,e.with_traceback); pass \n",
    "        pass\n",
    "    \n",
    " \n",
    "    def swarm_plot(self):\n",
    "        '''\n",
    "        plot swarmplot\n",
    "        '''\n",
    "        try:\n",
    "            for colCon in self.__continues.columns:\n",
    "                for colCat in self.__categorical.columns:\n",
    "                    fig, axs = py.subplots(1, 1, figsize=(5*self.__cate_len,5))\n",
    "                    sb.swarmplot(x=self.__categorical[colCat], y=self.__continues[colCon]\n",
    "                                  ,hue=self.target, split=True, ax=axs)\n",
    "                    py.show(); pass\n",
    "                \n",
    "                l = np.shape(self.__date_columns)[1]\n",
    "                for ind in range(0,l,3):     \n",
    "                    sb.swarmplot(x=self.__date_columns.iloc[:, ind], y=self.__continues[colCon]\n",
    "                                  ,hue=self.target, split=True)\n",
    "                    py.show(); pass\n",
    "                pass\n",
    "            pass\n",
    "        except Exception as e:\n",
    "            print(e,e.with_traceback); pass \n",
    "        pass"
   ]
  },
  {
   "cell_type": "markdown",
   "id": "24679a48-fbd3-4e6d-9852-a902fbf9116e",
   "metadata": {
    "jp-MarkdownHeadingCollapsed": true,
    "tags": []
   },
   "source": [
    "## Working with data"
   ]
  },
  {
   "cell_type": "code",
   "execution_count": null,
   "id": "6f466643-73f0-4fa4-8196-b8ee705112ac",
   "metadata": {},
   "outputs": [],
   "source": [
    "# first concat the train & test files to make EDA, then use them to build model\n",
    "pd.concat([pd.read_csv('churn-bigml-20.csv'), pd.read_csv('churn-bigml-80.csv')],axis=1).to_csv('churn-bigml.csv')"
   ]
  },
  {
   "cell_type": "code",
   "execution_count": 5,
   "id": "d5f5cb6b-60b6-4e14-9841-00465ef507a4",
   "metadata": {},
   "outputs": [
    {
     "name": "stderr",
     "output_type": "stream",
     "text": [
      "C:\\Users\\ABOELK~1\\AppData\\Local\\Temp/ipykernel_11988/2630743162.py:106: SettingWithCopyWarning: \n",
      "A value is trying to be set on a copy of a slice from a DataFrame\n",
      "\n",
      "See the caveats in the documentation: https://pandas.pydata.org/pandas-docs/stable/user_guide/indexing.html#returning-a-view-versus-a-copy\n",
      "  self.dataFrame[column][self.dataFrame[column].isnull()] = self.dataFrame[column].mode()[0]\n",
      "C:\\Users\\ABOELK~1\\AppData\\Local\\Temp/ipykernel_11988/2630743162.py:100: SettingWithCopyWarning: \n",
      "A value is trying to be set on a copy of a slice from a DataFrame\n",
      "\n",
      "See the caveats in the documentation: https://pandas.pydata.org/pandas-docs/stable/user_guide/indexing.html#returning-a-view-versus-a-copy\n",
      "  self.dataFrame[column][self.dataFrame[column].isnull()] = self.dataFrame[column].mean()\n",
      "C:\\Users\\ABOELK~1\\AppData\\Local\\Temp/ipykernel_11988/2630743162.py:95: SettingWithCopyWarning: \n",
      "A value is trying to be set on a copy of a slice from a DataFrame\n",
      "\n",
      "See the caveats in the documentation: https://pandas.pydata.org/pandas-docs/stable/user_guide/indexing.html#returning-a-view-versus-a-copy\n",
      "  self.dataFrame[column][self.dataFrame[column].isnull()] = self.dataFrame[column].mode()[0]\n",
      "C:\\Users\\ABOELK~1\\AppData\\Local\\Temp/ipykernel_11988/2630743162.py:120: SettingWithCopyWarning: \n",
      "A value is trying to be set on a copy of a slice from a DataFrame\n",
      "\n",
      "See the caveats in the documentation: https://pandas.pydata.org/pandas-docs/stable/user_guide/indexing.html#returning-a-view-versus-a-copy\n",
      "  self.dataFrame[column][self.dataFrame[column].isnull()] = self.dataFrame[column].mean()\n"
     ]
    }
   ],
   "source": [
    "dataFrame = pd.read_csv('churn-bigml.csv') \n",
    "eda = EDA(dataFrame, 10,70,None)"
   ]
  },
  {
   "cell_type": "code",
   "execution_count": 6,
   "id": "34210a1c-4b9c-4de1-8b0b-1a892f984297",
   "metadata": {},
   "outputs": [
    {
     "name": "stdout",
     "output_type": "stream",
     "text": [
      "\n",
      " Dataset has :  3333  records (samples)\n",
      "\n",
      " Dataset has :  5 Index([' categorical features :       State',\n",
      "       ' categorical features :       Area code',\n",
      "       ' categorical features :       International plan',\n",
      "       ' categorical features :       Voice mail plan',\n",
      "       ' categorical features :       Customer service calls'],\n",
      "      dtype='object')\n",
      "\n",
      " Dataset has :  14 Index([' continues features :        Account length',\n",
      "       ' continues features :        Number vmail messages',\n",
      "       ' continues features :        Total day minutes',\n",
      "       ' continues features :        Total day calls',\n",
      "       ' continues features :        Total day charge',\n",
      "       ' continues features :        Total eve minutes',\n",
      "       ' continues features :        Total eve calls',\n",
      "       ' continues features :        Total eve charge',\n",
      "       ' continues features :        Total night minutes',\n",
      "       ' continues features :        Total night calls',\n",
      "       ' continues features :        Total night charge',\n",
      "       ' continues features :        Total intl minutes',\n",
      "       ' continues features :        Total intl calls',\n",
      "       ' continues features :        Total intl charge'],\n",
      "      dtype='object')\n",
      "\n",
      "######################## Number of nulls ########################\n",
      "\n",
      "State                     0\n",
      "Account length            0\n",
      "Area code                 0\n",
      "International plan        0\n",
      "Voice mail plan           0\n",
      "Number vmail messages     0\n",
      "Total day minutes         0\n",
      "Total day calls           0\n",
      "Total day charge          0\n",
      "Total eve minutes         0\n",
      "Total eve calls           0\n",
      "Total eve charge          0\n",
      "Total night minutes       0\n",
      "Total night calls         0\n",
      "Total night charge        0\n",
      "Total intl minutes        0\n",
      "Total intl calls          0\n",
      "Total intl charge         0\n",
      "Customer service calls    0\n",
      "Churn                     0\n",
      "dtype: int64\n",
      "\n",
      "######################## information ########################\n",
      "\n",
      "<class 'pandas.core.frame.DataFrame'>\n",
      "RangeIndex: 3333 entries, 0 to 3332\n",
      "Data columns (total 20 columns):\n",
      " #   Column                  Non-Null Count  Dtype  \n",
      "---  ------                  --------------  -----  \n",
      " 0   State                   3333 non-null   object \n",
      " 1   Account length          3333 non-null   int64  \n",
      " 2   Area code               3333 non-null   int64  \n",
      " 3   International plan      3333 non-null   object \n",
      " 4   Voice mail plan         3333 non-null   object \n",
      " 5   Number vmail messages   3333 non-null   int64  \n",
      " 6   Total day minutes       3333 non-null   float64\n",
      " 7   Total day calls         3333 non-null   int64  \n",
      " 8   Total day charge        3333 non-null   float64\n",
      " 9   Total eve minutes       3333 non-null   float64\n",
      " 10  Total eve calls         3333 non-null   int64  \n",
      " 11  Total eve charge        3333 non-null   float64\n",
      " 12  Total night minutes     3333 non-null   float64\n",
      " 13  Total night calls       3333 non-null   int64  \n",
      " 14  Total night charge      3333 non-null   float64\n",
      " 15  Total intl minutes      3333 non-null   float64\n",
      " 16  Total intl calls        3333 non-null   int64  \n",
      " 17  Total intl charge       3333 non-null   float64\n",
      " 18  Customer service calls  3333 non-null   int64  \n",
      " 19  Churn                   3333 non-null   bool   \n",
      "dtypes: bool(1), float64(8), int64(8), object(3)\n",
      "memory usage: 498.1+ KB\n",
      "None\n",
      "\n",
      "######################## description ########################\n",
      "\n",
      "       Account length    Area code  Number vmail messages  Total day minutes  \\\n",
      "count     3333.000000  3333.000000            3333.000000        3333.000000   \n",
      "mean       101.064806   437.182418               8.099010         179.775098   \n",
      "std         39.822106    42.371290              13.688365          54.467389   \n",
      "min          1.000000   408.000000               0.000000           0.000000   \n",
      "25%         74.000000   408.000000               0.000000         143.700000   \n",
      "50%        101.000000   415.000000               0.000000         179.400000   \n",
      "75%        127.000000   510.000000              20.000000         216.400000   \n",
      "max        243.000000   510.000000              51.000000         350.800000   \n",
      "\n",
      "       Total day calls  Total day charge  Total eve minutes  Total eve calls  \\\n",
      "count      3333.000000       3333.000000        3333.000000      3333.000000   \n",
      "mean        100.435644         30.562307         200.980348       100.114311   \n",
      "std          20.069084          9.259435          50.713844        19.922625   \n",
      "min           0.000000          0.000000           0.000000         0.000000   \n",
      "25%          87.000000         24.430000         166.600000        87.000000   \n",
      "50%         101.000000         30.500000         201.400000       100.000000   \n",
      "75%         114.000000         36.790000         235.300000       114.000000   \n",
      "max         165.000000         59.640000         363.700000       170.000000   \n",
      "\n",
      "       Total eve charge  Total night minutes  Total night calls  \\\n",
      "count       3333.000000          3333.000000        3333.000000   \n",
      "mean          17.083540           200.872037         100.107711   \n",
      "std            4.310668            50.573847          19.568609   \n",
      "min            0.000000            23.200000          33.000000   \n",
      "25%           14.160000           167.000000          87.000000   \n",
      "50%           17.120000           201.200000         100.000000   \n",
      "75%           20.000000           235.300000         113.000000   \n",
      "max           30.910000           395.000000         175.000000   \n",
      "\n",
      "       Total night charge  Total intl minutes  Total intl calls  \\\n",
      "count         3333.000000         3333.000000       3333.000000   \n",
      "mean             9.039325           10.237294          4.479448   \n",
      "std              2.275873            2.791840          2.461214   \n",
      "min              1.040000            0.000000          0.000000   \n",
      "25%              7.520000            8.500000          3.000000   \n",
      "50%              9.050000           10.300000          4.000000   \n",
      "75%             10.590000           12.100000          6.000000   \n",
      "max             17.770000           20.000000         20.000000   \n",
      "\n",
      "       Total intl charge  Customer service calls  \n",
      "count        3333.000000             3333.000000  \n",
      "mean            2.764581                1.562856  \n",
      "std             0.753773                1.315491  \n",
      "min             0.000000                0.000000  \n",
      "25%             2.300000                1.000000  \n",
      "50%             2.780000                1.000000  \n",
      "75%             3.270000                2.000000  \n",
      "max             5.400000                9.000000  \n"
     ]
    }
   ],
   "source": [
    "eda.about_dataset()"
   ]
  },
  {
   "cell_type": "code",
   "execution_count": 7,
   "id": "fee8e24e-a5aa-4370-af7f-0a0ebcbb0408",
   "metadata": {},
   "outputs": [
    {
     "data": {
      "image/png": "[encoded data removed]",
      "text/plain": [
       "<Figure size 432x288 with 1 Axes>"
      ]
     },
     "metadata": {
      "needs_background": "light"
     },
     "output_type": "display_data"
    },
    {
     "data": {
      "image/png": "[encoded data removed]",
      "text/plain": [
       "<Figure size 432x288 with 1 Axes>"
      ]
     },
     "metadata": {
      "needs_background": "light"
     },
     "output_type": "display_data"
    },
    {
     "data": {
      "image/png": "[encoded data removed]",
      "text/plain": [
       "<Figure size 432x288 with 1 Axes>"
      ]
     },
     "metadata": {
      "needs_background": "light"
     },
     "output_type": "display_data"
    },
    {
     "data": {
      "image/png": "[encoded data removed]",
      "text/plain": [
       "<Figure size 432x288 with 1 Axes>"
      ]
     },
     "metadata": {
      "needs_background": "light"
     },
     "output_type": "display_data"
    },
    {
     "data": {
      "image/png": "[encoded data removed]",
      "text/plain": [
       "<Figure size 432x288 with 1 Axes>"
      ]
     },
     "metadata": {
      "needs_background": "light"
     },
     "output_type": "display_data"
    },
    {
     "data": {
      "image/png": "[encoded data removed]",
      "text/plain": [
       "<Figure size 432x288 with 1 Axes>"
      ]
     },
     "metadata": {
      "needs_background": "light"
     },
     "output_type": "display_data"
    },
    {
     "data": {
      "image/png": "[encoded data removed]",
      "text/plain": [
       "<Figure size 432x288 with 1 Axes>"
      ]
     },
     "metadata": {
      "needs_background": "light"
     },
     "output_type": "display_data"
    },
    {
     "data": {
      "image/png": "[encoded data removed]",
      "text/plain": [
       "<Figure size 432x288 with 1 Axes>"
      ]
     },
     "metadata": {
      "needs_background": "light"
     },
     "output_type": "display_data"
    },
    {
     "data": {
      "image/png": "[encoded data removed]",
      "text/plain": [
       "<Figure size 432x288 with 1 Axes>"
      ]
     },
     "metadata": {
      "needs_background": "light"
     },
     "output_type": "display_data"
    },
    {
     "data": {
      "image/png": "[encoded data removed]",
      "text/plain": [
       "<Figure size 432x288 with 1 Axes>"
      ]
     },
     "metadata": {
      "needs_background": "light"
     },
     "output_type": "display_data"
    },
    {
     "data": {
      "image/png": "[encoded data removed]",
      "text/plain": [
       "<Figure size 432x288 with 1 Axes>"
      ]
     },
     "metadata": {
      "needs_background": "light"
     },
     "output_type": "display_data"
    },
    {
     "data": {
      "image/png": "[encoded data removed]",
      "text/plain": [
       "<Figure size 432x288 with 1 Axes>"
      ]
     },
     "metadata": {
      "needs_background": "light"
     },
     "output_type": "display_data"
    },
    {
     "data": {
      "image/png": "[encoded data removed]",
      "text/plain": [
       "<Figure size 432x288 with 1 Axes>"
      ]
     },
     "metadata": {
      "needs_background": "light"
     },
     "output_type": "display_data"
    },
    {
     "data": {
      "image/png": "[encoded data removed]",
      "text/plain": [
       "<Figure size 432x288 with 1 Axes>"
      ]
     },
     "metadata": {
      "needs_background": "light"
     },
     "output_type": "display_data"
    }
   ],
   "source": [
    "eda.hist_plot()"
   ]
  },
  {
   "cell_type": "code",
   "execution_count": 8,
   "id": "f5ba044b-db7d-48f4-b523-029f8fe4196a",
   "metadata": {},
   "outputs": [
    {
     "data": {
      "image/png": "[encoded data removed]",
      "text/plain": [
       "<Figure size 5040x360 with 2 Axes>"
      ]
     },
     "metadata": {
      "needs_background": "light"
     },
     "output_type": "display_data"
    }
   ],
   "source": [
    "eda.correlation()"
   ]
  },
  {
   "cell_type": "code",
   "execution_count": 9,
   "id": "cf83867b-226a-4d9b-8161-17dca37b83c0",
   "metadata": {},
   "outputs": [
    {
     "name": "stderr",
     "output_type": "stream",
     "text": [
      "C:\\Users\\ABO ELKHEIR\\anaconda3\\lib\\site-packages\\seaborn\\_decorators.py:36: FutureWarning: Pass the following variable as a keyword arg: x. From version 0.12, the only valid positional argument will be `data`, and passing other arguments without an explicit keyword will result in an error or misinterpretation.\n",
      "  warnings.warn(\n"
     ]
    },
    {
     "data": {
      "image/png": "[encoded data removed]",
      "text/plain": [
       "<Figure size 432x288 with 1 Axes>"
      ]
     },
     "metadata": {
      "needs_background": "light"
     },
     "output_type": "display_data"
    },
    {
     "name": "stderr",
     "output_type": "stream",
     "text": [
      "C:\\Users\\ABO ELKHEIR\\anaconda3\\lib\\site-packages\\seaborn\\_decorators.py:36: FutureWarning: Pass the following variable as a keyword arg: x. From version 0.12, the only valid positional argument will be `data`, and passing other arguments without an explicit keyword will result in an error or misinterpretation.\n",
      "  warnings.warn(\n"
     ]
    },
    {
     "data": {
      "image/png": "[encoded data removed]",
      "text/plain": [
       "<Figure size 432x288 with 1 Axes>"
      ]
     },
     "metadata": {
      "needs_background": "light"
     },
     "output_type": "display_data"
    },
    {
     "name": "stderr",
     "output_type": "stream",
     "text": [
      "C:\\Users\\ABO ELKHEIR\\anaconda3\\lib\\site-packages\\seaborn\\_decorators.py:36: FutureWarning: Pass the following variable as a keyword arg: x. From version 0.12, the only valid positional argument will be `data`, and passing other arguments without an explicit keyword will result in an error or misinterpretation.\n",
      "  warnings.warn(\n"
     ]
    },
    {
     "data": {
      "image/png": "[encoded data removed]",
      "text/plain": [
       "<Figure size 432x288 with 1 Axes>"
      ]
     },
     "metadata": {
      "needs_background": "light"
     },
     "output_type": "display_data"
    },
    {
     "name": "stderr",
     "output_type": "stream",
     "text": [
      "C:\\Users\\ABO ELKHEIR\\anaconda3\\lib\\site-packages\\seaborn\\_decorators.py:36: FutureWarning: Pass the following variable as a keyword arg: x. From version 0.12, the only valid positional argument will be `data`, and passing other arguments without an explicit keyword will result in an error or misinterpretation.\n",
      "  warnings.warn(\n"
     ]
    },
    {
     "data": {
      "image/png": "[encoded data removed]",
      "text/plain": [
       "<Figure size 432x288 with 1 Axes>"
      ]
     },
     "metadata": {
      "needs_background": "light"
     },
     "output_type": "display_data"
    },
    {
     "name": "stderr",
     "output_type": "stream",
     "text": [
      "C:\\Users\\ABO ELKHEIR\\anaconda3\\lib\\site-packages\\seaborn\\_decorators.py:36: FutureWarning: Pass the following variable as a keyword arg: x. From version 0.12, the only valid positional argument will be `data`, and passing other arguments without an explicit keyword will result in an error or misinterpretation.\n",
      "  warnings.warn(\n"
     ]
    },
    {
     "data": {
      "image/png": "[encoded data removed]",
      "text/plain": [
       "<Figure size 432x288 with 1 Axes>"
      ]
     },
     "metadata": {
      "needs_background": "light"
     },
     "output_type": "display_data"
    }
   ],
   "source": [
    "eda.count_plot()"
   ]
  },
  {
   "cell_type": "markdown",
   "id": "6043ecb7-7a5d-49fd-8c4f-c8a406c65599",
   "metadata": {
    "jp-MarkdownHeadingCollapsed": true,
    "tags": []
   },
   "source": [
    "## Drop unusfull features"
   ]
  },
  {
   "cell_type": "markdown",
   "id": "9782b7ce-63a8-4ae1-bde6-4d7332e77834",
   "metadata": {},
   "source": [
    "> ***Total day minutes & Total eve minutes & Total intl minutes*** >> because both of them has high-correlations with other features (3 features) **Multicollinearity**\n",
    "> ***Number vmail messages*** >> the most of samples has one-vale **autocorrelation**"
   ]
  },
  {
   "cell_type": "code",
   "execution_count": 10,
   "id": "2e055d6f-28ec-4189-8cf8-bccba0ab460f",
   "metadata": {},
   "outputs": [],
   "source": [
    "dataFrame = dataFrame.drop(['Total day minutes','Total eve minutes', 'Total intl minutes','Number vmail messages'],axis=1)"
   ]
  },
  {
   "cell_type": "markdown",
   "id": "5ef0530b-b08d-49f6-b0cb-4e99da266bd0",
   "metadata": {
    "jp-MarkdownHeadingCollapsed": true,
    "tags": []
   },
   "source": [
    "## Handle non-numerc features"
   ]
  },
  {
   "cell_type": "code",
   "execution_count": 11,
   "id": "32dafbc9-67dd-4051-bfea-ae040dd72c62",
   "metadata": {},
   "outputs": [
    {
     "name": "stdout",
     "output_type": "stream",
     "text": [
      "State ['KS' 'OH' 'NJ' 'OK' 'AL' 'MA' 'MO' 'WV' 'RI' 'IA' 'MT' 'ID' 'VT' 'VA'\n",
      " 'TX' 'FL' 'CO' 'AZ' 'NE' 'WY' 'IL' 'NH' 'LA' 'GA' 'AK' 'MD' 'AR' 'WI'\n",
      " 'OR' 'DE' 'IN' 'UT' 'CA' 'SD' 'NC' 'WA' 'MN' 'NM' 'NV' 'DC' 'NY' 'KY'\n",
      " 'ME' 'MS' 'MI' 'SC' 'TN' 'PA' 'HI' 'ND' 'CT']\n",
      "International plan ['No' 'Yes']\n",
      "Voice mail plan ['Yes' 'No']\n"
     ]
    },
    {
     "data": {
      "text/plain": [
       "[None, None, None]"
      ]
     },
     "execution_count": 11,
     "metadata": {},
     "output_type": "execute_result"
    }
   ],
   "source": [
    "ind = dataFrame.dtypes[dataFrame.dtypes == object].index\n",
    "[print(i , dataFrame[i].unique()) for i in ind] "
   ]
  },
  {
   "cell_type": "code",
   "execution_count": 12,
   "id": "912f21bc-c441-43ec-a0f9-5cee966190e4",
   "metadata": {},
   "outputs": [],
   "source": [
    "# for binary features make dummy for them\n",
    "dataFrame['International plan'] = dataFrame['International plan'].replace(['No','Yes'], [0,1])\n",
    "dataFrame['Voice mail plan'] = dataFrame['Voice mail plan'].replace(['No','Yes'], [0,1])\n",
    "\n",
    "ind = ind.drop(['Voice mail plan', 'International plan'])\n",
    "\n",
    "# for nominal features make dummy for them [assume that all of them nominal]\n",
    "for i in ind:\n",
    "    pd.get_dummies(dataFrame[i], dtype=int, \n",
    "                                   columns= dataFrame[i].unique())\n",
    "    dataFrame = dataFrame.drop([i],axis=1)"
   ]
  },
  {
   "cell_type": "code",
   "execution_count": 13,
   "id": "c2770db3-0690-4973-a266-2a05ac9443c3",
   "metadata": {},
   "outputs": [],
   "source": [
    "dataFrame['Churn'] = dataFrame['Churn'].replace(['No','Yes'], [0,1])"
   ]
  },
  {
   "cell_type": "code",
   "execution_count": 14,
   "id": "22cc889b-10c8-4a58-8e9e-0e9da63287de",
   "metadata": {},
   "outputs": [
    {
     "data": {
      "text/plain": [
       "Index(['Account length', 'Area code', 'International plan', 'Voice mail plan',\n",
       "       'Total day calls', 'Total day charge', 'Total eve calls',\n",
       "       'Total eve charge', 'Total night minutes', 'Total night calls',\n",
       "       'Total night charge', 'Total intl calls', 'Total intl charge',\n",
       "       'Customer service calls', 'Churn'],\n",
       "      dtype='object')"
      ]
     },
     "execution_count": 14,
     "metadata": {},
     "output_type": "execute_result"
    }
   ],
   "source": [
    "dataFrame.columns"
   ]
  },
  {
   "cell_type": "markdown",
   "id": "440b8214-3605-4de0-b156-7490a7bb2559",
   "metadata": {
    "jp-MarkdownHeadingCollapsed": true,
    "tags": []
   },
   "source": [
    "## split dataFrame"
   ]
  },
  {
   "cell_type": "code",
   "execution_count": 15,
   "id": "f2d0bb1a-365e-44c5-9782-eaa2f72bd192",
   "metadata": {},
   "outputs": [],
   "source": [
    "#  into target and features \n",
    "x = dataFrame.drop(['Churn'],axis=1)\n",
    "y = dataFrame['Churn']"
   ]
  },
  {
   "cell_type": "code",
   "execution_count": 16,
   "id": "e9ef2785-a10f-4804-8f4d-b88894989a85",
   "metadata": {},
   "outputs": [],
   "source": [
    "# into train & test\n",
    "x_train, x_test, y_train, y_test = train_test_split(x,y, test_size= 0.3, random_state=5, stratify=y)"
   ]
  },
  {
   "cell_type": "markdown",
   "id": "996aaaac-8d26-4d0b-b260-8e4e8c5c727c",
   "metadata": {
    "tags": []
   },
   "source": [
    "# Build - Models"
   ]
  },
  {
   "cell_type": "markdown",
   "id": "102b37e0-eadf-4bf6-aee8-0f450784ed6d",
   "metadata": {
    "jp-MarkdownHeadingCollapsed": true,
    "tags": []
   },
   "source": [
    "## KNN"
   ]
  },
  {
   "cell_type": "code",
   "execution_count": null,
   "id": "5b153bef-0f97-440e-a329-58a977202c72",
   "metadata": {},
   "outputs": [],
   "source": [
    "knn = KNeighborsClassifier()\n",
    "params = { 'n_neighbors' : np.arange(1, 12), 'p' :  np.arange(1, 5) }\n",
    "sCV = StratifiedKFold(10)"
   ]
  },
  {
   "cell_type": "code",
   "execution_count": null,
   "id": "e1569846-7e09-403f-aa64-d32b82069a42",
   "metadata": {},
   "outputs": [],
   "source": [
    "model = GridSearchCV(estimator=knn,cv=sCV,n_jobs=10,scoring='roc_auc', param_grid=params)"
   ]
  },
  {
   "cell_type": "code",
   "execution_count": null,
   "id": "0789af8c-31b1-44e6-83a9-9d6755456e0f",
   "metadata": {},
   "outputs": [],
   "source": [
    "model.fit(x_train, y_train)"
   ]
  },
  {
   "cell_type": "code",
   "execution_count": null,
   "id": "5d26a4c4-fa9a-4391-a540-9addd5167694",
   "metadata": {},
   "outputs": [],
   "source": [
    "model.best_score_"
   ]
  },
  {
   "cell_type": "code",
   "execution_count": null,
   "id": "eb15a26d-6673-4f72-b4c2-1ab45491894f",
   "metadata": {},
   "outputs": [],
   "source": [
    "model.best_params_"
   ]
  },
  {
   "cell_type": "code",
   "execution_count": null,
   "id": "50cf4ff9-49ae-423c-8b82-79b690b77deb",
   "metadata": {},
   "outputs": [],
   "source": [
    "newKNN = model.estimator"
   ]
  },
  {
   "cell_type": "code",
   "execution_count": null,
   "id": "620a7f70-464b-458c-9cd7-e3926511e3bc",
   "metadata": {},
   "outputs": [],
   "source": [
    "newKNN.p= 1\n",
    "newKNN.n_neighbors = 5"
   ]
  },
  {
   "cell_type": "code",
   "execution_count": null,
   "id": "2495b3a3-ac53-462f-bda3-dd6df7ba3817",
   "metadata": {},
   "outputs": [],
   "source": [
    "newKNN.fit(x_train,y_train)"
   ]
  },
  {
   "cell_type": "code",
   "execution_count": null,
   "id": "40109776-c857-4fab-aa3c-1880abff9caf",
   "metadata": {},
   "outputs": [],
   "source": [
    "y_pre_tr = newKNN.predict(x_train)\n",
    "ConfusionMatrixDisplay(confusion_matrix(y_train,y_pre_tr)).plot()\n",
    "print(classification_report(y_train, y_pre_tr))"
   ]
  },
  {
   "cell_type": "code",
   "execution_count": null,
   "id": "31ed1bea-873a-40ed-91f9-01e441654142",
   "metadata": {},
   "outputs": [],
   "source": [
    "y_pre_te = newKNN.predict(x_test)\n",
    "ConfusionMatrixDisplay(confusion_matrix(y_test,y_pre_te)).plot()\n",
    "print(classification_report(y_test, y_pre_te))"
   ]
  },
  {
   "cell_type": "markdown",
   "id": "fa0da623-655e-489a-ad6d-7b7fbff50ad3",
   "metadata": {
    "jp-MarkdownHeadingCollapsed": true,
    "tags": []
   },
   "source": [
    "## DT"
   ]
  },
  {
   "cell_type": "code",
   "execution_count": null,
   "id": "c7433627-4049-49a1-b95e-a336647b1c8f",
   "metadata": {},
   "outputs": [],
   "source": [
    "dt = DecisionTreeClassifier()\n",
    "params = { 'criterion' : ['gini', 'entropy'], 'max_depth' :  np.arange(10, 30), 'min_samples_leaf':np.arange(1, 5)}\n",
    "sCV = StratifiedKFold(10)"
   ]
  },
  {
   "cell_type": "code",
   "execution_count": null,
   "id": "bff5dc31-92e4-4775-94e9-6248ed2ead89",
   "metadata": {},
   "outputs": [],
   "source": [
    "model = GridSearchCV(estimator=dt,cv=sCV,n_jobs=10,scoring='roc_auc', param_grid=params)"
   ]
  },
  {
   "cell_type": "code",
   "execution_count": null,
   "id": "79bbd556-5838-43c3-9b4e-341a65dcc8de",
   "metadata": {},
   "outputs": [],
   "source": [
    "model.fit(x_train, y_train)"
   ]
  },
  {
   "cell_type": "code",
   "execution_count": null,
   "id": "68aac461-da3a-4148-9e65-b1a84d06a55b",
   "metadata": {},
   "outputs": [],
   "source": [
    "model.best_score_"
   ]
  },
  {
   "cell_type": "code",
   "execution_count": null,
   "id": "7424d076-c396-46be-981d-a93a3514e20c",
   "metadata": {},
   "outputs": [],
   "source": [
    "model.best_params_"
   ]
  },
  {
   "cell_type": "code",
   "execution_count": null,
   "id": "affd41fc-6969-4142-81b4-fca703e6243b",
   "metadata": {},
   "outputs": [],
   "source": [
    "newDT = model.best_estimator_"
   ]
  },
  {
   "cell_type": "code",
   "execution_count": null,
   "id": "4d27412a-8d8c-48fc-834c-9bc002ed1748",
   "metadata": {},
   "outputs": [],
   "source": [
    "newDT.min_samples_leaf , newDT.max_depth = 3, 10 "
   ]
  },
  {
   "cell_type": "code",
   "execution_count": null,
   "id": "6a817916-b284-43dc-a9ed-c58dac61219c",
   "metadata": {},
   "outputs": [],
   "source": [
    "newDT.fit(x_train,y_train)"
   ]
  },
  {
   "cell_type": "code",
   "execution_count": null,
   "id": "c8d69494-b40e-40f5-9214-02490d819b99",
   "metadata": {},
   "outputs": [],
   "source": [
    "y_pre_tr = newDT.predict(x_train)\n",
    "ConfusionMatrixDisplay(confusion_matrix(y_train,y_pre_tr)).plot()\n",
    "print(classification_report(y_train, y_pre_tr))"
   ]
  },
  {
   "cell_type": "code",
   "execution_count": null,
   "id": "8e170e0c-fc97-45ce-96e4-06d94fb70d43",
   "metadata": {},
   "outputs": [],
   "source": [
    "y_pre_te = newDT.predict(x_test)\n",
    "ConfusionMatrixDisplay(confusion_matrix(y_test,y_pre_te)).plot()\n",
    "print(classification_report(y_test, y_pre_te))"
   ]
  },
  {
   "cell_type": "markdown",
   "id": "2ddb5db6-afe3-478f-b913-023bcf5f11c6",
   "metadata": {
    "jp-MarkdownHeadingCollapsed": true,
    "tags": []
   },
   "source": [
    "## Logestic Regression"
   ]
  },
  {
   "cell_type": "code",
   "execution_count": null,
   "id": "2e76231f-f169-4472-8ebd-7c0b08fe5baf",
   "metadata": {},
   "outputs": [],
   "source": [
    "lg = LogisticRegression()\n",
    "params = { 'C' : np.arange(1, 10), 'penalty' :  ['l1','l2']}\n",
    "sCV = StratifiedKFold(10)"
   ]
  },
  {
   "cell_type": "code",
   "execution_count": null,
   "id": "e986838f-d3bc-4227-b23a-ceb0ce1f6231",
   "metadata": {},
   "outputs": [],
   "source": [
    "model = GridSearchCV(estimator=lg,cv=sCV,n_jobs=10,scoring='roc_auc', param_grid=params)"
   ]
  },
  {
   "cell_type": "code",
   "execution_count": null,
   "id": "29601e13-7057-497b-abff-a07ae4f172c1",
   "metadata": {},
   "outputs": [],
   "source": [
    "model.fit(x_train, y_train)"
   ]
  },
  {
   "cell_type": "code",
   "execution_count": null,
   "id": "5c353300-021b-45a4-8f45-86030b5b5c6b",
   "metadata": {},
   "outputs": [],
   "source": [
    "model.best_score_"
   ]
  },
  {
   "cell_type": "code",
   "execution_count": null,
   "id": "6d1591e7-1ae1-41d0-9c5c-076cfa220b24",
   "metadata": {},
   "outputs": [],
   "source": [
    "model.best_params_"
   ]
  },
  {
   "cell_type": "code",
   "execution_count": null,
   "id": "364c6016-c103-4de1-93ed-c885736168c7",
   "metadata": {},
   "outputs": [],
   "source": [
    "newLR = model.estimator"
   ]
  },
  {
   "cell_type": "code",
   "execution_count": null,
   "id": "3d1daab1-a4e0-4a85-9d85-1fb37ff1a40a",
   "metadata": {},
   "outputs": [],
   "source": [
    "newLR.C = 2"
   ]
  },
  {
   "cell_type": "code",
   "execution_count": null,
   "id": "80fd3e9b-9a6f-40e4-bd02-3af6b2cc4662",
   "metadata": {},
   "outputs": [],
   "source": [
    "newLR.fit(x_train,y_train)"
   ]
  },
  {
   "cell_type": "code",
   "execution_count": null,
   "id": "6e7ea4e0-735b-4dbf-818f-37a93168ae45",
   "metadata": {},
   "outputs": [],
   "source": [
    "y_pre_tr = newLR.predict(x_train)\n",
    "ConfusionMatrixDisplay(confusion_matrix(y_train,y_pre_tr)).plot()\n",
    "print(classification_report(y_train, y_pre_tr))"
   ]
  },
  {
   "cell_type": "code",
   "execution_count": null,
   "id": "104994cb-9469-42fc-9ed0-5d43da445de6",
   "metadata": {},
   "outputs": [],
   "source": [
    "y_pre_te = newLR.predict(x_test)\n",
    "ConfusionMatrixDisplay(confusion_matrix(y_test,y_pre_te)).plot()\n",
    "print(classification_report(y_test, y_pre_te))"
   ]
  },
  {
   "cell_type": "markdown",
   "id": "d7256608-8bfb-4585-91d0-46230076e06b",
   "metadata": {
    "jp-MarkdownHeadingCollapsed": true,
    "tags": []
   },
   "source": [
    "## BernoulliNB"
   ]
  },
  {
   "cell_type": "code",
   "execution_count": null,
   "id": "34ba0e15-ef30-4856-a538-1290e302d2eb",
   "metadata": {},
   "outputs": [],
   "source": [
    "be = BernoulliNB()\n",
    "params = { 'alpha' : np.arange(0, 1,0.2), 'binarize' :  np.arange(0, 1,0.2)}\n",
    "sCV = StratifiedKFold(10)"
   ]
  },
  {
   "cell_type": "code",
   "execution_count": null,
   "id": "6474efcf-a36b-49fe-9a07-e80139f9700c",
   "metadata": {},
   "outputs": [],
   "source": [
    "model = GridSearchCV(estimator=be,cv=sCV,n_jobs=10,scoring='roc_auc', param_grid=params)"
   ]
  },
  {
   "cell_type": "code",
   "execution_count": null,
   "id": "ccef6291-9db2-453c-867a-ecc5ef391ad5",
   "metadata": {},
   "outputs": [],
   "source": [
    "model.fit(x_train, y_train)"
   ]
  },
  {
   "cell_type": "code",
   "execution_count": null,
   "id": "df9d5f50-d0d0-4532-b4fa-3f0f74a667d5",
   "metadata": {},
   "outputs": [],
   "source": [
    "model.best_score_"
   ]
  },
  {
   "cell_type": "code",
   "execution_count": null,
   "id": "6b43d952-29a0-491a-9b1d-9192f580f3fd",
   "metadata": {},
   "outputs": [],
   "source": [
    "model.best_params_"
   ]
  },
  {
   "cell_type": "code",
   "execution_count": null,
   "id": "b5f6bb52-0f91-4eb0-b637-c0e6de2c64a7",
   "metadata": {},
   "outputs": [],
   "source": [
    "newNB = model.estimator"
   ]
  },
  {
   "cell_type": "code",
   "execution_count": null,
   "id": "46627929-9dc0-4ab3-8a68-f9171c1a205d",
   "metadata": {},
   "outputs": [],
   "source": [
    "newNB.binarize, newNB.alpha = 0.4,0.0"
   ]
  },
  {
   "cell_type": "code",
   "execution_count": null,
   "id": "76819530-87ce-4080-8b9d-5b851235119d",
   "metadata": {},
   "outputs": [],
   "source": [
    "newNB.fit(x_train,y_train)"
   ]
  },
  {
   "cell_type": "code",
   "execution_count": null,
   "id": "8f98b5cd-0d4f-4251-bf14-60b6e0f12d7c",
   "metadata": {},
   "outputs": [],
   "source": [
    "y_pre_tr = newNB.predict(x_train)\n",
    "ConfusionMatrixDisplay(confusion_matrix(y_train,y_pre_tr)).plot()\n",
    "print(classification_report(y_train, y_pre_tr))"
   ]
  },
  {
   "cell_type": "code",
   "execution_count": null,
   "id": "4acc018a-4d24-44a7-8d97-d4a9f9176504",
   "metadata": {},
   "outputs": [],
   "source": [
    "y_pre_te = newNB.predict(x_test)\n",
    "ConfusionMatrixDisplay(confusion_matrix(y_test,y_pre_te)).plot()\n",
    "print(classification_report(y_test, y_pre_te))"
   ]
  },
  {
   "cell_type": "markdown",
   "id": "ce191632-ea24-4bd0-8e75-45a04360ab29",
   "metadata": {
    "jp-MarkdownHeadingCollapsed": true,
    "tags": []
   },
   "source": [
    "## AdaBoost"
   ]
  },
  {
   "cell_type": "code",
   "execution_count": null,
   "id": "67a03084-de0c-4c6f-bb7d-7a648b2caa3e",
   "metadata": {},
   "outputs": [],
   "source": [
    "ad = AdaBoostClassifier()\n",
    "params = { 'n_estimators' : np.arange(50, 200,10), 'learning_rate' :  [0.001, 0.01, 0.1, 1.0]}\n",
    "sCV = StratifiedKFold(10)"
   ]
  },
  {
   "cell_type": "code",
   "execution_count": null,
   "id": "b41c60e1-c793-43d1-8eb3-f8d70b7bb456",
   "metadata": {},
   "outputs": [],
   "source": [
    "model = RandomizedSearchCV(estimator=ad,cv=sCV,n_iter=10,scoring='roc_auc', param_distributions=params)"
   ]
  },
  {
   "cell_type": "code",
   "execution_count": null,
   "id": "77c2bd16-82d2-4755-a2e0-15d30f02ca4b",
   "metadata": {},
   "outputs": [],
   "source": [
    "model.fit(x_train, y_train)"
   ]
  },
  {
   "cell_type": "code",
   "execution_count": null,
   "id": "a4be51f6-611b-4c74-bd7b-d7da21981de4",
   "metadata": {},
   "outputs": [],
   "source": [
    "model.best_score_"
   ]
  },
  {
   "cell_type": "code",
   "execution_count": null,
   "id": "4d8ac84b-2932-4288-897b-7b68493f7984",
   "metadata": {},
   "outputs": [],
   "source": [
    "model.best_params_"
   ]
  },
  {
   "cell_type": "code",
   "execution_count": null,
   "id": "ce37e28d-edba-4a00-81e8-64d53fcd16d7",
   "metadata": {},
   "outputs": [],
   "source": [
    "newAD = model.estimator"
   ]
  },
  {
   "cell_type": "code",
   "execution_count": null,
   "id": "6318817b-cbe0-4582-b590-dc8dc7df730c",
   "metadata": {},
   "outputs": [],
   "source": [
    "newAD.n_estimators, newAD.learning_rate = 90, 0.1"
   ]
  },
  {
   "cell_type": "code",
   "execution_count": null,
   "id": "56b1a570-859c-477d-8eab-9d9b27ea1d08",
   "metadata": {},
   "outputs": [],
   "source": [
    "newAD.fit(x_train,y_train)"
   ]
  },
  {
   "cell_type": "code",
   "execution_count": null,
   "id": "e17251d2-925b-4d30-9af4-318050b48429",
   "metadata": {},
   "outputs": [],
   "source": [
    "y_pre_tr = newAD.predict(x_train)\n",
    "ConfusionMatrixDisplay(confusion_matrix(y_train,y_pre_tr)).plot()\n",
    "print(classification_report(y_train, y_pre_tr))"
   ]
  },
  {
   "cell_type": "code",
   "execution_count": null,
   "id": "a103b08b-179b-42b5-a6c9-ab84f665ebb5",
   "metadata": {},
   "outputs": [],
   "source": [
    "y_pre_te = newDT.predict(x_test)\n",
    "ConfusionMatrixDisplay(confusion_matrix(y_test,y_pre_te)).plot()\n",
    "print(classification_report(y_test, y_pre_te))"
   ]
  },
  {
   "cell_type": "code",
   "execution_count": null,
   "id": "5c95a9a0-40d8-4040-8c33-e3c8ad4e503f",
   "metadata": {},
   "outputs": [],
   "source": [
    "lg = LogisticRegression()\n",
    "params = { 'C' : np.arange(1, 10), 'penalty' :  ['l1','l2']}\n",
    "sCV = StratifiedKFold(10)"
   ]
  },
  {
   "cell_type": "code",
   "execution_count": null,
   "id": "7054e600-4c98-41e7-ae02-3eb87e0a8981",
   "metadata": {},
   "outputs": [],
   "source": [
    "model = RandomizedSearchCV(estimator=lg,cv=sCV,n_iter=10,scoring='accuracy', param_distributions=params)"
   ]
  },
  {
   "cell_type": "code",
   "execution_count": null,
   "id": "bba88c04-ecc6-4601-9f8e-fb8235cbd88f",
   "metadata": {},
   "outputs": [],
   "source": [
    "model.fit(x_train, y_train)"
   ]
  },
  {
   "cell_type": "code",
   "execution_count": null,
   "id": "e5b2eec4-cb4f-4fbb-afc9-5770a3a404be",
   "metadata": {},
   "outputs": [],
   "source": [
    "model.best_score_"
   ]
  },
  {
   "cell_type": "code",
   "execution_count": null,
   "id": "cd996647-8085-4513-bb12-8f9c9d84535a",
   "metadata": {},
   "outputs": [],
   "source": [
    "model.best_params_"
   ]
  },
  {
   "cell_type": "code",
   "execution_count": null,
   "id": "12eb5107-3c1b-4be8-85c9-65be3c54ed4f",
   "metadata": {},
   "outputs": [],
   "source": [
    "newLR = model.estimator"
   ]
  },
  {
   "cell_type": "code",
   "execution_count": null,
   "id": "fa19a7b6-b3db-4d28-b680-d138c85cf486",
   "metadata": {},
   "outputs": [],
   "source": [
    "newLR.C = 6"
   ]
  },
  {
   "cell_type": "code",
   "execution_count": null,
   "id": "30437070-85cb-4c81-8d53-5a2cfc476673",
   "metadata": {},
   "outputs": [],
   "source": [
    "newLR.fit(x_train,y_train)"
   ]
  },
  {
   "cell_type": "code",
   "execution_count": null,
   "id": "e1d0385b-0bae-46bb-9f8b-9904aac801c1",
   "metadata": {},
   "outputs": [],
   "source": [
    "y_pre_tr = newDT.predict(x_train)\n",
    "ConfusionMatrixDisplay(confusion_matrix(y_train,y_pre_tr)).plot()\n",
    "print(classification_report(y_train, y_pre_tr))"
   ]
  },
  {
   "cell_type": "code",
   "execution_count": null,
   "id": "89b096a3-a896-430f-8792-1fcfbe6f175a",
   "metadata": {},
   "outputs": [],
   "source": [
    "y_pre_te = newDT.predict(x_test)\n",
    "ConfusionMatrixDisplay(confusion_matrix(y_test,y_pre_te)).plot()\n",
    "print(classification_report(y_test, y_pre_te))"
   ]
  },
  {
   "cell_type": "markdown",
   "id": "29ffc637-e7fe-4a76-844a-7412d5f8f85f",
   "metadata": {
    "jp-MarkdownHeadingCollapsed": true,
    "tags": []
   },
   "source": [
    "## GradientBoost"
   ]
  },
  {
   "cell_type": "code",
   "execution_count": 17,
   "id": "5d96965c-0c23-4154-bc1c-cc2d2a734c2e",
   "metadata": {},
   "outputs": [],
   "source": [
    "gb = GradientBoostingClassifier()\n",
    "\n",
    "params = { 'learning_rate' : [0.001,0.01,0.1,1.0], 'n_estimators' :  [100,200,300],\n",
    "           'min_samples_split' : np.arange(2,7), 'min_samples_leaf' : np.arange(1,32),\n",
    "           'max_depth' : np.arange(3,12)}\n",
    "\n",
    "sCV = StratifiedKFold(10)"
   ]
  },
  {
   "cell_type": "code",
   "execution_count": 18,
   "id": "88e81dc0-0de4-4bdc-b65d-c7a5a431c77f",
   "metadata": {},
   "outputs": [],
   "source": [
    "model = RandomizedSearchCV(estimator=gb,cv=sCV,n_iter=10,scoring='roc_auc', param_distributions=params)"
   ]
  },
  {
   "cell_type": "code",
   "execution_count": 19,
   "id": "985eba85-789d-459c-b21c-02e2b7ffe230",
   "metadata": {},
   "outputs": [
    {
     "data": {
      "text/plain": [
       "RandomizedSearchCV(cv=StratifiedKFold(n_splits=10, random_state=None, shuffle=False),\n",
       "                   estimator=GradientBoostingClassifier(),\n",
       "                   param_distributions={'learning_rate': [0.001, 0.01, 0.1,\n",
       "                                                          1.0],\n",
       "                                        'max_depth': array([ 3,  4,  5,  6,  7,  8,  9, 10, 11]),\n",
       "                                        'min_samples_leaf': array([ 1,  2,  3,  4,  5,  6,  7,  8,  9, 10, 11, 12, 13, 14, 15, 16, 17,\n",
       "       18, 19, 20, 21, 22, 23, 24, 25, 26, 27, 28, 29, 30, 31]),\n",
       "                                        'min_samples_split': array([2, 3, 4, 5, 6]),\n",
       "                                        'n_estimators': [100, 200, 300]},\n",
       "                   scoring='roc_auc')"
      ]
     },
     "execution_count": 19,
     "metadata": {},
     "output_type": "execute_result"
    }
   ],
   "source": [
    "model.fit(x_train, y_train)"
   ]
  },
  {
   "cell_type": "code",
   "execution_count": 20,
   "id": "18df5389-e324-4c00-a0ab-a85583d97dec",
   "metadata": {},
   "outputs": [
    {
     "data": {
      "text/plain": [
       "0.906975716371519"
      ]
     },
     "execution_count": 20,
     "metadata": {},
     "output_type": "execute_result"
    }
   ],
   "source": [
    "model.best_score_"
   ]
  },
  {
   "cell_type": "code",
   "execution_count": 21,
   "id": "d3f26851-b119-4546-8854-3691311a120b",
   "metadata": {},
   "outputs": [
    {
     "data": {
      "text/plain": [
       "{'n_estimators': 100,\n",
       " 'min_samples_split': 2,\n",
       " 'min_samples_leaf': 12,\n",
       " 'max_depth': 11,\n",
       " 'learning_rate': 1.0}"
      ]
     },
     "execution_count": 21,
     "metadata": {},
     "output_type": "execute_result"
    }
   ],
   "source": [
    "model.best_params_"
   ]
  },
  {
   "cell_type": "code",
   "execution_count": 22,
   "id": "40355bb4-3b63-48e1-a5ee-b35946abd4c3",
   "metadata": {},
   "outputs": [],
   "source": [
    "newGB = model.estimator"
   ]
  },
  {
   "cell_type": "code",
   "execution_count": 23,
   "id": "7a178053-355d-4a68-a12f-a15882284a4c",
   "metadata": {},
   "outputs": [],
   "source": [
    "newGB.n_estimators ,newGB.min_samples_split ,newGB.min_samples_leaf ,newGB.max_depth ,newGB.learning_rate = 100,2,12,11,1"
   ]
  },
  {
   "cell_type": "code",
   "execution_count": 24,
   "id": "d3c05c8a-615d-4187-a028-ba5a9305f46b",
   "metadata": {},
   "outputs": [
    {
     "data": {
      "text/plain": [
       "GradientBoostingClassifier(learning_rate=1, max_depth=11, min_samples_leaf=12)"
      ]
     },
     "execution_count": 24,
     "metadata": {},
     "output_type": "execute_result"
    }
   ],
   "source": [
    "newGB.fit(x_train,y_train)"
   ]
  },
  {
   "cell_type": "code",
   "execution_count": 25,
   "id": "171c5481-1780-49d7-8240-897b56491233",
   "metadata": {},
   "outputs": [
    {
     "name": "stdout",
     "output_type": "stream",
     "text": [
      "              precision    recall  f1-score   support\n",
      "\n",
      "       False       1.00      1.00      1.00      1995\n",
      "        True       1.00      1.00      1.00       338\n",
      "\n",
      "    accuracy                           1.00      2333\n",
      "   macro avg       1.00      1.00      1.00      2333\n",
      "weighted avg       1.00      1.00      1.00      2333\n",
      "\n"
     ]
    },
    {
     "data": {
      "image/png": "[encoded data removed]",
      "text/plain": [
       "<Figure size 432x288 with 2 Axes>"
      ]
     },
     "metadata": {
      "needs_background": "light"
     },
     "output_type": "display_data"
    }
   ],
   "source": [
    "y_pre_tr = newGB.predict(x_train)\n",
    "ConfusionMatrixDisplay(confusion_matrix(y_train,y_pre_tr)).plot()\n",
    "print(classification_report(y_train, y_pre_tr))"
   ]
  },
  {
   "cell_type": "code",
   "execution_count": 27,
   "id": "40fdaff8-761e-4cfc-9b78-5d621d55a21c",
   "metadata": {},
   "outputs": [
    {
     "name": "stdout",
     "output_type": "stream",
     "text": [
      "              precision    recall  f1-score   support\n",
      "\n",
      "       False       0.95      0.98      0.97       855\n",
      "        True       0.89      0.70      0.78       145\n",
      "\n",
      "    accuracy                           0.94      1000\n",
      "   macro avg       0.92      0.84      0.88      1000\n",
      "weighted avg       0.94      0.94      0.94      1000\n",
      "\n"
     ]
    },
    {
     "data": {
      "image/png": "[encoded data removed]",
      "text/plain": [
       "<Figure size 432x288 with 2 Axes>"
      ]
     },
     "metadata": {
      "needs_background": "light"
     },
     "output_type": "display_data"
    }
   ],
   "source": [
    "y_pre_te = newGB.predict(x_test)\n",
    "ConfusionMatrixDisplay(confusion_matrix(y_test,y_pre_te)).plot()\n",
    "print(classification_report(y_test, y_pre_te))"
   ]
  },
  {
   "cell_type": "markdown",
   "id": "6701c407-78e9-4732-9031-95c8ed37903f",
   "metadata": {
    "jp-MarkdownHeadingCollapsed": true,
    "tags": []
   },
   "source": [
    "## XGradientBoost "
   ]
  },
  {
   "cell_type": "code",
   "execution_count": 28,
   "id": "e8b7e8fc-dd36-4228-bd62-0a28d4562857",
   "metadata": {},
   "outputs": [],
   "source": [
    "xg = xgb.XGBClassifier(objective='binary:logistic', subsample=0.9, colsample_bytree=0.5)\n",
    "\n",
    "lis = np.arange(0.1,1, 0.1).tolist()\n",
    "lis.extend(np.arange(1,11).tolist())\n",
    "lis.extend(np.arange(80,1001).tolist())\n",
    "\n",
    "params = { 'learning_rate' : [0.001,0.01,0.,1.0], 'n_estimators' :  [100,200,300],\n",
    "           'scale_pos_weight' : np.arange(2,7),\n",
    "           'max_depth' : np.arange(3,12), 'gamma' : lis,\n",
    "           'reg_lambda' : lis}\n",
    "sCV = StratifiedKFold(10)"
   ]
  },
  {
   "cell_type": "code",
   "execution_count": 29,
   "id": "4715551b-7de4-4f17-a7bf-7a6126670d1f",
   "metadata": {},
   "outputs": [],
   "source": [
    "model = RandomizedSearchCV(estimator=xg, cv=sCV,scoring='roc_auc', param_distributions=params)"
   ]
  },
  {
   "cell_type": "code",
   "execution_count": 30,
   "id": "270f8c9c-cbcf-49ad-a33a-953c9fcd708a",
   "metadata": {},
   "outputs": [
    {
     "data": {
      "text/plain": [
       "RandomizedSearchCV(cv=StratifiedKFold(n_splits=10, random_state=None, shuffle=False),\n",
       "                   estimator=XGBClassifier(base_score=None, booster=None,\n",
       "                                           callbacks=None,\n",
       "                                           colsample_bylevel=None,\n",
       "                                           colsample_bynode=None,\n",
       "                                           colsample_bytree=0.5,\n",
       "                                           early_stopping_rounds=None,\n",
       "                                           enable_categorical=False,\n",
       "                                           eval_metric=None, gamma=None,\n",
       "                                           gpu_id=None, grow_policy=None,\n",
       "                                           importance_type=None,\n",
       "                                           int...\n",
       "                                                  1, 2, 3, 4, 5, 6, 7, 8, 9, 10,\n",
       "                                                  80, 81, 82, 83, 84, 85, 86,\n",
       "                                                  87, 88, 89, 90, ...],\n",
       "                                        'learning_rate': [0.001, 0.01, 0.0,\n",
       "                                                          1.0],\n",
       "                                        'max_depth': array([ 3,  4,  5,  6,  7,  8,  9, 10, 11]),\n",
       "                                        'n_estimators': [100, 200, 300],\n",
       "                                        'reg_lambda': [0.1, 0.2,\n",
       "                                                       0.30000000000000004, 0.4,\n",
       "                                                       0.5, 0.6,\n",
       "                                                       0.7000000000000001, 0.8,\n",
       "                                                       0.9, 1, 2, 3, 4, 5, 6, 7,\n",
       "                                                       8, 9, 10, 80, 81, 82, 83,\n",
       "                                                       84, 85, 86, 87, 88, 89,\n",
       "                                                       90, ...],\n",
       "                                        'scale_pos_weight': array([2, 3, 4, 5, 6])},\n",
       "                   scoring='roc_auc')"
      ]
     },
     "execution_count": 30,
     "metadata": {},
     "output_type": "execute_result"
    }
   ],
   "source": [
    "model.fit(x_train, y_train)"
   ]
  },
  {
   "cell_type": "code",
   "execution_count": 31,
   "id": "395cf25e-41ee-4c5c-9f30-3681b8d412d1",
   "metadata": {},
   "outputs": [
    {
     "data": {
      "text/plain": [
       "0.7766633692078934"
      ]
     },
     "execution_count": 31,
     "metadata": {},
     "output_type": "execute_result"
    }
   ],
   "source": [
    "model.best_score_"
   ]
  },
  {
   "cell_type": "code",
   "execution_count": 32,
   "id": "dd6b1ef5-b876-4e03-9e1f-40c2a5b3ca87",
   "metadata": {},
   "outputs": [
    {
     "data": {
      "text/plain": [
       "{'scale_pos_weight': 3,\n",
       " 'reg_lambda': 168,\n",
       " 'n_estimators': 200,\n",
       " 'max_depth': 10,\n",
       " 'learning_rate': 0.01,\n",
       " 'gamma': 175}"
      ]
     },
     "execution_count": 32,
     "metadata": {},
     "output_type": "execute_result"
    }
   ],
   "source": [
    "model.best_params_"
   ]
  },
  {
   "cell_type": "code",
   "execution_count": 33,
   "id": "c9e757c7-880f-4163-96c6-d699fc929331",
   "metadata": {},
   "outputs": [],
   "source": [
    "newXG = model.estimator"
   ]
  },
  {
   "cell_type": "code",
   "execution_count": 34,
   "id": "86571843-e4b9-4188-a108-136562f0c80e",
   "metadata": {},
   "outputs": [],
   "source": [
    "newXG.scale_pos_weight ,newXG.reg_lambda ,newXG.n_estimators ,newXG.max_depth ,newXG.learning_rate ,newXG.gamma = \\\n",
    "3,168,200,10,0.01,175"
   ]
  },
  {
   "cell_type": "code",
   "execution_count": 35,
   "id": "62c57aa0-61ef-41bf-8e4d-b5007df15d5b",
   "metadata": {},
   "outputs": [
    {
     "data": {
      "text/plain": [
       "XGBClassifier(base_score=0.5, booster='gbtree', callbacks=None,\n",
       "              colsample_bylevel=1, colsample_bynode=1, colsample_bytree=0.5,\n",
       "              early_stopping_rounds=None, enable_categorical=False,\n",
       "              eval_metric=None, gamma=175, gpu_id=-1, grow_policy='depthwise',\n",
       "              importance_type=None, interaction_constraints='',\n",
       "              learning_rate=0.01, max_bin=256, max_cat_to_onehot=4,\n",
       "              max_delta_step=0, max_depth=10, max_leaves=0, min_child_weight=1,\n",
       "              missing=nan, monotone_constraints='()', n_estimators=200,\n",
       "              n_jobs=0, num_parallel_tree=1, predictor='auto', random_state=0,\n",
       "              reg_alpha=0, reg_lambda=168, ...)"
      ]
     },
     "execution_count": 35,
     "metadata": {},
     "output_type": "execute_result"
    }
   ],
   "source": [
    "newXG.fit(x_train,y_train)"
   ]
  },
  {
   "cell_type": "code",
   "execution_count": 36,
   "id": "a0a4c609-a9fc-46d1-ae0a-95eae3d10dc1",
   "metadata": {},
   "outputs": [
    {
     "name": "stdout",
     "output_type": "stream",
     "text": [
      "              precision    recall  f1-score   support\n",
      "\n",
      "       False       0.86      1.00      0.92      1995\n",
      "        True       0.00      0.00      0.00       338\n",
      "\n",
      "    accuracy                           0.86      2333\n",
      "   macro avg       0.43      0.50      0.46      2333\n",
      "weighted avg       0.73      0.86      0.79      2333\n",
      "\n"
     ]
    },
    {
     "name": "stderr",
     "output_type": "stream",
     "text": [
      "C:\\Users\\ABO ELKHEIR\\anaconda3\\lib\\site-packages\\sklearn\\metrics\\_classification.py:1248: UndefinedMetricWarning: Precision and F-score are ill-defined and being set to 0.0 in labels with no predicted samples. Use `zero_division` parameter to control this behavior.\n",
      "  _warn_prf(average, modifier, msg_start, len(result))\n",
      "C:\\Users\\ABO ELKHEIR\\anaconda3\\lib\\site-packages\\sklearn\\metrics\\_classification.py:1248: UndefinedMetricWarning: Precision and F-score are ill-defined and being set to 0.0 in labels with no predicted samples. Use `zero_division` parameter to control this behavior.\n",
      "  _warn_prf(average, modifier, msg_start, len(result))\n",
      "C:\\Users\\ABO ELKHEIR\\anaconda3\\lib\\site-packages\\sklearn\\metrics\\_classification.py:1248: UndefinedMetricWarning: Precision and F-score are ill-defined and being set to 0.0 in labels with no predicted samples. Use `zero_division` parameter to control this behavior.\n",
      "  _warn_prf(average, modifier, msg_start, len(result))\n"
     ]
    },
    {
     "data": {
      "image/png": "[encoded data removed]",
      "text/plain": [
       "<Figure size 432x288 with 2 Axes>"
      ]
     },
     "metadata": {
      "needs_background": "light"
     },
     "output_type": "display_data"
    }
   ],
   "source": [
    "y_pre_tr = newXG.predict(x_train)\n",
    "ConfusionMatrixDisplay(confusion_matrix(y_train,y_pre_tr)).plot()\n",
    "print(classification_report(y_train, y_pre_tr))"
   ]
  },
  {
   "cell_type": "code",
   "execution_count": 37,
   "id": "7e0bc2ad-ce2e-452e-94e8-9b7524597a1a",
   "metadata": {},
   "outputs": [
    {
     "name": "stderr",
     "output_type": "stream",
     "text": [
      "C:\\Users\\ABO ELKHEIR\\anaconda3\\lib\\site-packages\\sklearn\\metrics\\_classification.py:1248: UndefinedMetricWarning: Precision and F-score are ill-defined and being set to 0.0 in labels with no predicted samples. Use `zero_division` parameter to control this behavior.\n",
      "  _warn_prf(average, modifier, msg_start, len(result))\n"
     ]
    },
    {
     "name": "stdout",
     "output_type": "stream",
     "text": [
      "              precision    recall  f1-score   support\n",
      "\n",
      "       False       0.85      1.00      0.92       855\n",
      "        True       0.00      0.00      0.00       145\n",
      "\n",
      "    accuracy                           0.85      1000\n",
      "   macro avg       0.43      0.50      0.46      1000\n",
      "weighted avg       0.73      0.85      0.79      1000\n",
      "\n"
     ]
    },
    {
     "name": "stderr",
     "output_type": "stream",
     "text": [
      "C:\\Users\\ABO ELKHEIR\\anaconda3\\lib\\site-packages\\sklearn\\metrics\\_classification.py:1248: UndefinedMetricWarning: Precision and F-score are ill-defined and being set to 0.0 in labels with no predicted samples. Use `zero_division` parameter to control this behavior.\n",
      "  _warn_prf(average, modifier, msg_start, len(result))\n",
      "C:\\Users\\ABO ELKHEIR\\anaconda3\\lib\\site-packages\\sklearn\\metrics\\_classification.py:1248: UndefinedMetricWarning: Precision and F-score are ill-defined and being set to 0.0 in labels with no predicted samples. Use `zero_division` parameter to control this behavior.\n",
      "  _warn_prf(average, modifier, msg_start, len(result))\n"
     ]
    },
    {
     "data": {
      "image/png": "[encoded data removed]",
      "text/plain": [
       "<Figure size 432x288 with 2 Axes>"
      ]
     },
     "metadata": {
      "needs_background": "light"
     },
     "output_type": "display_data"
    }
   ],
   "source": [
    "y_pre_te = newXG.predict(x_test)\n",
    "ConfusionMatrixDisplay(confusion_matrix(y_test,y_pre_te)).plot()\n",
    "print(classification_report(y_test, y_pre_te))"
   ]
  },
  {
   "cell_type": "markdown",
   "id": "3f45b608-c7fd-4ed7-b634-e9ec7a2aed70",
   "metadata": {
    "jp-MarkdownHeadingCollapsed": true,
    "tags": []
   },
   "source": [
    "## SVC"
   ]
  },
  {
   "cell_type": "code",
   "execution_count": null,
   "id": "80442132-2a38-4f10-b863-3ed8d81e7061",
   "metadata": {},
   "outputs": [],
   "source": [
    "svc = SVC()\n",
    "params = { 'C' : np.arange(1, 12), 'degree' :  np.arange(1, 5), 'kernel': ['linear', 'rbf', 'sigmoid']}\n",
    "sCV = StratifiedKFold(10)"
   ]
  },
  {
   "cell_type": "code",
   "execution_count": null,
   "id": "dbd549be-4cde-4ec8-ab1b-848cc531c270",
   "metadata": {},
   "outputs": [],
   "source": [
    "model = RandomizedSearchCV(estimator=svc,cv=sCV,n_iter=10,scoring='accuracy', param_distributions=params)"
   ]
  },
  {
   "cell_type": "code",
   "execution_count": null,
   "id": "a3bdeef4-ce42-4073-8c94-b3aaee90f018",
   "metadata": {},
   "outputs": [],
   "source": [
    "model.fit(x_train, y_train)"
   ]
  },
  {
   "cell_type": "code",
   "execution_count": null,
   "id": "5c97cd0f-63fc-43ac-a95e-4c97ce75271b",
   "metadata": {},
   "outputs": [],
   "source": [
    "model.best_score_"
   ]
  },
  {
   "cell_type": "code",
   "execution_count": null,
   "id": "c9c23378-68a7-4fef-89b9-bf55299db7ef",
   "metadata": {},
   "outputs": [],
   "source": [
    "model.best_params_"
   ]
  },
  {
   "cell_type": "code",
   "execution_count": null,
   "id": "91b07296-6d4d-4233-94f9-dc120aa3f9f0",
   "metadata": {},
   "outputs": [],
   "source": [
    "newSVC = model.estimator"
   ]
  },
  {
   "cell_type": "code",
   "execution_count": null,
   "id": "cb7db2e2-0c88-4463-a6ba-52064293fb9d",
   "metadata": {},
   "outputs": [],
   "source": [
    "newSVC.C=\n",
    "newSVC.degree=\n",
    "newSVC.kernal="
   ]
  },
  {
   "cell_type": "code",
   "execution_count": null,
   "id": "33c8b926-deda-4b83-90ec-26fc67415429",
   "metadata": {},
   "outputs": [],
   "source": [
    "newSVC.fit(x_train,y_train)"
   ]
  },
  {
   "cell_type": "code",
   "execution_count": null,
   "id": "82b5af7c-9898-4274-afbd-fcfabe30fa84",
   "metadata": {},
   "outputs": [],
   "source": [
    "y_pre_tr = newSVC.predict(x_train)\n",
    "ConfusionMatrixDisplay(confusion_matrix(y_train,y_pre_tr)).plot()\n",
    "print(classification_report(y_train, y_pre_tr))"
   ]
  },
  {
   "cell_type": "code",
   "execution_count": null,
   "id": "d3cd5771-e0d0-46ab-ad64-a29151b46b33",
   "metadata": {},
   "outputs": [],
   "source": [
    "y_pre_te = newSVC.predict(x_test)\n",
    "ConfusionMatrixDisplay(confusion_matrix(y_test,y_pre_te)).plot()\n",
    "print(classification_report(y_test, y_pre_te))"
   ]
  },
  {
   "cell_type": "code",
   "execution_count": null,
   "id": "6b06af98-6b91-4d4b-b373-4ba23c7ead69",
   "metadata": {},
   "outputs": [],
   "source": [
    "## Train Model with Sts"
   ]
  },
  {
   "cell_type": "code",
   "execution_count": null,
   "id": "1a1fc318-9b6c-47d9-83c7-24da0362b2b3",
   "metadata": {},
   "outputs": [],
   "source": [
    "knn = KNeighborsClassifier()\n",
    "params = { 'n_neighbors' : np.arange(1, 12), 'p' :  np.arange(1, 5) }\n",
    "sCV = StratifiedKFold(10)"
   ]
  },
  {
   "cell_type": "code",
   "execution_count": null,
   "id": "ead40276-463b-41cc-8753-d1af81561e93",
   "metadata": {},
   "outputs": [],
   "source": [
    "model = RandomizedSearchCV(estimator=knn,cv=sCV,n_iter=10,scoring='accuracy', param_distributions=params)"
   ]
  },
  {
   "cell_type": "code",
   "execution_count": null,
   "id": "42cfd687-1b78-4010-962f-4f34cf894530",
   "metadata": {},
   "outputs": [],
   "source": [
    "model.fit(x_train, y_train)"
   ]
  },
  {
   "cell_type": "code",
   "execution_count": null,
   "id": "fb630847-938b-491f-b848-c24fa571d8ca",
   "metadata": {},
   "outputs": [],
   "source": [
    "model.best_score_"
   ]
  },
  {
   "cell_type": "code",
   "execution_count": null,
   "id": "3fe14569-43b6-4c04-83f5-3d51d138761f",
   "metadata": {},
   "outputs": [],
   "source": [
    "model.best_params_"
   ]
  },
  {
   "cell_type": "code",
   "execution_count": null,
   "id": "0494f3a3-e74d-4091-9a59-b6295386971c",
   "metadata": {},
   "outputs": [],
   "source": [
    "newKNN = model.estimator"
   ]
  },
  {
   "cell_type": "code",
   "execution_count": null,
   "id": "b08cd19e-7d5f-46b5-bf90-c093a082096e",
   "metadata": {},
   "outputs": [],
   "source": [
    "newKNN.p= 4\n",
    "newKNN.n_neighbors = 8"
   ]
  },
  {
   "cell_type": "code",
   "execution_count": null,
   "id": "b87912c3-e8b8-4131-b227-4ea8f7e6a5d0",
   "metadata": {},
   "outputs": [],
   "source": [
    "newKNN.fit(x_train,y_train)"
   ]
  },
  {
   "cell_type": "code",
   "execution_count": null,
   "id": "d27dc48a-0ec1-4342-969d-ebf8a39253b3",
   "metadata": {},
   "outputs": [],
   "source": [
    "y_pre_tr = newKNN.predict(x_train)\n",
    "ConfusionMatrixDisplay(confusion_matrix(y_train,y_pre_tr)).plot()\n",
    "print(classification_report(y_train, y_pre_tr))"
   ]
  },
  {
   "cell_type": "code",
   "execution_count": null,
   "id": "a2cbfdb7-7e80-4ab8-b25d-0a1f362d039a",
   "metadata": {},
   "outputs": [],
   "source": [
    "y_pre_te = newKNN.predict(x_test)\n",
    "ConfusionMatrixDisplay(confusion_matrix(y_test,y_pre_te)).plot()\n",
    "print(classification_report(y_test, y_pre_te))"
   ]
  },
  {
   "cell_type": "code",
   "execution_count": null,
   "id": "f9e3bc5d-9653-4c45-98e7-970a63cd7e37",
   "metadata": {},
   "outputs": [],
   "source": [
    "dt = DecisionTreeClassifier()\n",
    "params = { 'criterion' : ['gini', 'entropy'], 'max_depth' :  np.arange(10, 30), 'min_samples_leaf':np.arange(1, 5)}\n",
    "sCV = StratifiedKFold(10)"
   ]
  },
  {
   "cell_type": "code",
   "execution_count": null,
   "id": "08cd9292-a22c-414a-ba8a-07e7ecb35cb0",
   "metadata": {},
   "outputs": [],
   "source": [
    "model = RandomizedSearchCV(estimator=dt,cv=sCV,n_iter=10,scoring='accuracy', param_distributions=params)"
   ]
  },
  {
   "cell_type": "code",
   "execution_count": null,
   "id": "7b165707-1999-4870-ac21-4fe46db7a890",
   "metadata": {},
   "outputs": [],
   "source": [
    "model.fit(x_train, y_train)"
   ]
  },
  {
   "cell_type": "code",
   "execution_count": null,
   "id": "0940c3d9-aaf8-4629-8dbb-65cc00c4f741",
   "metadata": {},
   "outputs": [],
   "source": [
    "model.best_score_"
   ]
  },
  {
   "cell_type": "code",
   "execution_count": null,
   "id": "8ff4729e-6fb7-4aa2-80ab-26de944c69d5",
   "metadata": {},
   "outputs": [],
   "source": [
    "model.best_params_"
   ]
  },
  {
   "cell_type": "code",
   "execution_count": null,
   "id": "c8c2efcc-afc7-4769-b4c2-96d67faf088f",
   "metadata": {},
   "outputs": [],
   "source": [
    "newDT = DecisionTreeClassifier(min_samples_leaf=4, max_depth=12)"
   ]
  },
  {
   "cell_type": "code",
   "execution_count": null,
   "id": "0fc66603-4f9c-4b6c-8fd0-bba4dbc889d1",
   "metadata": {},
   "outputs": [],
   "source": [
    "newDT.fit(x_train,y_train)"
   ]
  },
  {
   "cell_type": "code",
   "execution_count": null,
   "id": "f0a8c426-7fa2-4f03-82f9-1bbbf6d7613e",
   "metadata": {},
   "outputs": [],
   "source": [
    "y_pre_tr = newDT.predict(x_train)\n",
    "ConfusionMatrixDisplay(confusion_matrix(y_train,y_pre_tr)).plot()\n",
    "print(classification_report(y_train, y_pre_tr))"
   ]
  },
  {
   "cell_type": "code",
   "execution_count": null,
   "id": "5cccd591-f4ff-4d8f-9ccc-4990a3ecd3b6",
   "metadata": {},
   "outputs": [],
   "source": [
    "y_pre_te = newDT.predict(x_test)\n",
    "ConfusionMatrixDisplay(confusion_matrix(y_test,y_pre_te)).plot()\n",
    "print(classification_report(y_test, y_pre_te))"
   ]
  },
  {
   "cell_type": "code",
   "execution_count": null,
   "id": "dcdd13ad-903a-47a8-b96a-cb5c388dcdad",
   "metadata": {},
   "outputs": [],
   "source": [
    "lg = LogisticRegression()\n",
    "params = { 'C' : np.arange(1, 10), 'penalty' :  ['l1','l2']}\n",
    "sCV = StratifiedKFold(10)"
   ]
  },
  {
   "cell_type": "code",
   "execution_count": null,
   "id": "ad48695a-762d-49b9-b39b-1820b73bb1ee",
   "metadata": {},
   "outputs": [],
   "source": [
    "model = RandomizedSearchCV(estimator=lg,cv=sCV,n_iter=10,scoring='accuracy', param_distributions=params)"
   ]
  },
  {
   "cell_type": "code",
   "execution_count": null,
   "id": "9c826a91-8f21-499d-875b-0bbb3fefc98d",
   "metadata": {},
   "outputs": [],
   "source": [
    "model.fit(x_train, y_train)"
   ]
  },
  {
   "cell_type": "code",
   "execution_count": null,
   "id": "4d5049b5-8411-4965-addf-a5e91fbea321",
   "metadata": {},
   "outputs": [],
   "source": [
    "model.best_score_"
   ]
  },
  {
   "cell_type": "code",
   "execution_count": null,
   "id": "332b8317-4b48-473b-b121-ee60405b4272",
   "metadata": {},
   "outputs": [],
   "source": [
    "model.best_params_"
   ]
  },
  {
   "cell_type": "code",
   "execution_count": null,
   "id": "3aa8d9cd-3d0b-488f-87a0-50b4310e5526",
   "metadata": {},
   "outputs": [],
   "source": [
    "newLR = model.estimator"
   ]
  },
  {
   "cell_type": "code",
   "execution_count": null,
   "id": "f86e5d68-3b3c-4fbc-bbbe-c8d1902d3dff",
   "metadata": {},
   "outputs": [],
   "source": [
    "newLR.C = 6"
   ]
  },
  {
   "cell_type": "code",
   "execution_count": null,
   "id": "ef5bc855-74ac-4248-aecf-535737a7902b",
   "metadata": {},
   "outputs": [],
   "source": [
    "newLR.fit(x_train,y_train)"
   ]
  },
  {
   "cell_type": "code",
   "execution_count": null,
   "id": "65f3fd67-a6d5-4bfb-9d0c-1af0df6ac70a",
   "metadata": {},
   "outputs": [],
   "source": [
    "y_pre_tr = newLR.predict(x_train)\n",
    "ConfusionMatrixDisplay(confusion_matrix(y_train,y_pre_tr)).plot()\n",
    "print(classification_report(y_train, y_pre_tr))"
   ]
  },
  {
   "cell_type": "code",
   "execution_count": null,
   "id": "ad592e2d-fa5b-4295-9eb4-9a6f1fa3fe00",
   "metadata": {},
   "outputs": [],
   "source": [
    "y_pre_te = newLR.predict(x_test)\n",
    "ConfusionMatrixDisplay(confusion_matrix(y_test,y_pre_te)).plot()\n",
    "print(classification_report(y_test, y_pre_te))"
   ]
  },
  {
   "cell_type": "code",
   "execution_count": null,
   "id": "713fc9e7-c3f3-4376-8003-659cbb99cbc8",
   "metadata": {},
   "outputs": [],
   "source": []
  }
 ],
 "metadata": {
  "kernelspec": {
   "display_name": "Python 3 (ipykernel)",
   "language": "python",
   "name": "python3"
  },
  "language_info": {
   "codemirror_mode": {
    "name": "ipython",
    "version": 3
   },
   "file_extension": ".py",
   "mimetype": "text/x-python",
   "name": "python",
   "nbconvert_exporter": "python",
   "pygments_lexer": "ipython3",
   "version": "3.9.7"
  }
 },
 "nbformat": 4,
 "nbformat_minor": 5
}
